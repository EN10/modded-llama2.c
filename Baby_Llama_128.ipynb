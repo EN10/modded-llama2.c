{
  "cells": [
    {
      "cell_type": "markdown",
      "metadata": {
        "id": "view-in-github",
        "colab_type": "text"
      },
      "source": [
        "<a href=\"https://colab.research.google.com/github/EN10/modded-llama2.c/blob/main/Baby_Llama_128.ipynb\" target=\"_parent\"><img src=\"https://colab.research.google.com/assets/colab-badge.svg\" alt=\"Open In Colab\"/></a>"
      ]
    },
    {
      "cell_type": "code",
      "execution_count": null,
      "metadata": {
        "id": "OnipH4BHgpu1"
      },
      "outputs": [],
      "source": [
        "%%time\n",
        "# download training and inference code\n",
        "!git clone https://github.com/eniompw/modded-llama2.c"
      ]
    },
    {
      "cell_type": "code",
      "execution_count": null,
      "metadata": {
        "id": "Tx04_T-pv1zf"
      },
      "outputs": [],
      "source": [
        "%%time\n",
        "# download and extract tinystories dataset\n",
        "!. ./modded-llama2.c/download_tinystories.sh"
      ]
    },
    {
      "cell_type": "code",
      "execution_count": null,
      "metadata": {
        "id": "sdMK1MW8g4eM"
      },
      "outputs": [],
      "source": [
        "%%time\n",
        "# train neural net\n",
        "!cd modded-llama2.c && python train.py --max_iters=1 #--init_from='resume'"
      ]
    },
    {
      "cell_type": "code",
      "execution_count": null,
      "metadata": {
        "id": "1-ylANKlOfCr"
      },
      "outputs": [],
      "source": [
        "%%time\n",
        "# test inference\n",
        "!cd ./modded-llama2.c && ./run out/model.bin -i \"Once upon a time \""
      ]
    }
  ],
  "metadata": {
    "accelerator": "GPU",
    "colab": {
      "gpuType": "T4",
      "provenance": [],
      "include_colab_link": true
    },
    "kernelspec": {
      "display_name": "Python 3",
      "name": "python3"
    },
    "language_info": {
      "name": "python"
    }
  },
  "nbformat": 4,
  "nbformat_minor": 0
}