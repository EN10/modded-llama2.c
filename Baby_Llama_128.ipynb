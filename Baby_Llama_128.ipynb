{
  "cells": [
    {
      "cell_type": "markdown",
      "metadata": {
        "id": "view-in-github",
        "colab_type": "text"
      },
      "source": [
        "<a href=\"https://colab.research.google.com/github/EN10/modded-llama2.c/blob/main/Baby_Llama_128.ipynb\" target=\"_parent\"><img src=\"https://colab.research.google.com/assets/colab-badge.svg\" alt=\"Open In Colab\"/></a>"
      ]
    },
    {
      "cell_type": "code",
      "execution_count": null,
      "metadata": {
        "id": "OnipH4BHgpu1"
      },
      "outputs": [],
      "source": [
        "%%time\n",
        "# training and inference code\n",
        "!git clone https://github.com/eniompw/modded-llama2.c"
      ]
    },
    {
      "cell_type": "code",
      "execution_count": null,
      "metadata": {
        "id": "Tx04_T-pv1zf"
      },
      "outputs": [],
      "source": [
        "%%time\n",
        "!mkdir -p ./modded-llama2.c/data\n",
        "# Download files in parallel directly into the target directory\n",
        "!wget -P ./modded-llama2.c/data https://huggingface.co/datasets/enio/TinyStories/resolve/main/tok128/tok128.model & \\\n",
        "  wget -P ./modded-llama2.c/data https://huggingface.co/datasets/enio/TinyStories/raw/main/tok128/tok128.vocab & \\\n",
        "  wget -P ./modded-llama2.c/data https://huggingface.co/datasets/enio/TinyStories/resolve/main/tok128/tok128.tar.gz & \\\n",
        "  wait\n",
        "\n",
        "# Untar the large file after all downloads are complete\n",
        "!tar -I pigz -xf ./modded-llama2.c/data/tok128.tar.gz -C ./modded-llama2.c/data/\n",
        "\n",
        "# compile run / inference executable\n",
        "!cd modded-llama2.c && gcc -O3 -o run run.c -lm\n",
        "# create tok105.bin\n",
        "!cd modded-llama2.c && python tokenizer.py --tokenizer-model=data/tok128.model"
      ]
    },
    {
      "cell_type": "code",
      "execution_count": null,
      "metadata": {
        "id": "sdMK1MW8g4eM"
      },
      "outputs": [],
      "source": [
        "%%time\n",
        "# train neural net\n",
        "!cd modded-llama2.c && python train.py --vocab_source=custom --vocab_size=128 --compile=True \\\n",
        "  --dim=128 --n_layers=5 --n_heads=8 --n_kv_heads=4 --batch_size=32 \\\n",
        "  --always_save_checkpoint=True --eval_interval=1 --max_iters=1 #--init_from='resume'"
      ]
    },
    {
      "cell_type": "code",
      "execution_count": null,
      "metadata": {
        "id": "1-ylANKlOfCr"
      },
      "outputs": [],
      "source": [
        "%%time\n",
        "# inference\n",
        "!cd ./modded-llama2.c && ./run out/model.bin -z data/tok128.bin -t 0.8 -n 256 -i \"Once upon a time \""
      ]
    }
  ],
  "metadata": {
    "accelerator": "GPU",
    "colab": {
      "gpuType": "T4",
      "provenance": [],
      "include_colab_link": true
    },
    "kernelspec": {
      "display_name": "Python 3",
      "name": "python3"
    },
    "language_info": {
      "name": "python"
    }
  },
  "nbformat": 4,
  "nbformat_minor": 0
}