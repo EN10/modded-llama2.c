{
 "cells": [
  {
   "cell_type": "markdown",
   "metadata": {
    "colab_type": "text",
    "id": "view-in-github"
   },
   "source": [
    "<a href=\"https://colab.research.google.com/github/EN10/modded-llama2.c/blob/main/Baby_Llama_128.ipynb\" target=\"_parent\"><img src=\"https://colab.research.google.com/assets/colab-badge.svg\" alt=\"Open In Colab\"/></a>"
   ]
  },
  {
   "cell_type": "code",
   "execution_count": 4,
   "metadata": {
    "colab": {
     "base_uri": "https://localhost:8080/"
    },
    "id": "OnipH4BHgpu1",
    "outputId": "e9fd2d86-fc14-40da-d7be-b3e49f54ddea"
   },
   "outputs": [
    {
     "name": "stdout",
     "output_type": "stream",
     "text": [
      "Cloning into 'modded-llama2.c'...\n",
      "remote: Enumerating objects: 38, done.\u001b[K\n",
      "remote: Counting objects: 100% (38/38), done.\u001b[K\n",
      "remote: Compressing objects: 100% (33/33), done.\u001b[K\n",
      "remote: Total 38 (delta 14), reused 14 (delta 4), pack-reused 0 (from 0)\u001b[K\n",
      "Receiving objects: 100% (38/38), 60.64 KiB | 806.00 KiB/s, done.\n",
      "Resolving deltas: 100% (14/14), done.\n",
      "CPU times: user 5.76 ms, sys: 1.34 ms, total: 7.1 ms\n",
      "Wall time: 705 ms\n"
     ]
    }
   ],
   "source": [
    "%%time\n",
    "# training and inference code\n",
    "!git clone https://github.com/eniompw/modded-llama2.c"
   ]
  },
  {
   "cell_type": "code",
   "execution_count": 5,
   "metadata": {
    "colab": {
     "base_uri": "https://localhost:8080/"
    },
    "id": "Tx04_T-pv1zf",
    "outputId": "eba41ea6-6717-4779-c7a1-0e4e21a38984"
   },
   "outputs": [
    {
     "name": "stdout",
     "output_type": "stream",
     "text": [
      "--2025-05-29 10:17:32--  https://huggingface.co/datasets/enio/TinyStories/resolve/main/tok128/tok128.model\n",
      "--2025-05-29 10:17:32--  https://huggingface.co/datasets/enio/TinyStories/raw/main/tok128/tok128.vocab\n",
      "--2025-05-29 10:17:32--  https://huggingface.co/datasets/enio/TinyStories/resolve/main/tok128/tok128.tar.gz\n",
      "Resolving huggingface.co (huggingface.co)... Resolving huggingface.co (huggingface.co)... Resolving huggingface.co (huggingface.co)... 108.138.246.85, 108.138.246.67, 108.138.246.79, ...\n",
      "Connecting to huggingface.co (huggingface.co)|108.138.246.85|:443... 108.138.246.85, 108.138.246.67, 108.138.246.79, ...\n",
      "Connecting to huggingface.co (huggingface.co)|108.138.246.85|:443... connected.\n",
      "connected.\n",
      "18.164.174.17, 18.164.174.23, 18.164.174.118, ...\n",
      "Connecting to huggingface.co (huggingface.co)|18.164.174.17|:443... connected.\n",
      "HTTP request sent, awaiting response... HTTP request sent, awaiting response... HTTP request sent, awaiting response... 302 Found\n",
      "Location: https://cdn-lfs-us-1.hf.co/repos/65/c8/65c8615bfd6b6d94c8e62381ee6653578b439f71ff04b86aaefa9828dec8bb70/e4794cc7590440c422b6d63123f6f10fbc7ec83f8fc281c60296cbef61f772ac?response-content-disposition=inline%3B+filename*%3DUTF-8%27%27tok128.model%3B+filename%3D%22tok128.model%22%3B&Expires=1748517453&Policy=eyJTdGF0ZW1lbnQiOlt7IkNvbmRpdGlvbiI6eyJEYXRlTGVzc1RoYW4iOnsiQVdTOkVwb2NoVGltZSI6MTc0ODUxNzQ1M319LCJSZXNvdXJjZSI6Imh0dHBzOi8vY2RuLWxmcy11cy0xLmhmLmNvL3JlcG9zLzY1L2M4LzY1Yzg2MTViZmQ2YjZkOTRjOGU2MjM4MWVlNjY1MzU3OGI0MzlmNzFmZjA0Yjg2YWFlZmE5ODI4ZGVjOGJiNzAvZTQ3OTRjYzc1OTA0NDBjNDIyYjZkNjMxMjNmNmYxMGZiYzdlYzgzZjhmYzI4MWM2MDI5NmNiZWY2MWY3NzJhYz9yZXNwb25zZS1jb250ZW50LWRpc3Bvc2l0aW9uPSoifV19&Signature=WfhnGwm7YQTAxffUgF25WeglrfMfXz9BeHFy4d7T0CWhdIiPJR1vSA9Y6clXnn12c37YgRD4eze8uAbPG8eucWVtRsbZyr8ASjUMPn0SyDrSiifg7ZMeqqskpmTvQMtzdjhhu5wLR2Q0FXkIZgf6lVArotxUQZwbX2KxAFqQivM9bmE27lMMEQJd0G9aujCvBil6MggI2gZuVe2A1FHsUIDNOHGGPscT9Lzs1QXOWh-yhwMGeS8yG6ENMlkyTSxo4U%7EOBi7aXmjOnnLhNfrwdXoll3b0xQI5khG2loQh%7E79aALhsF79oFgxll6TpHKzL%7Ehs5yTBh2R4rYGUmzrTSOg__&Key-Pair-Id=K24J24Z295AEI9 [following]\n",
      "--2025-05-29 10:17:33--  https://cdn-lfs-us-1.hf.co/repos/65/c8/65c8615bfd6b6d94c8e62381ee6653578b439f71ff04b86aaefa9828dec8bb70/e4794cc7590440c422b6d63123f6f10fbc7ec83f8fc281c60296cbef61f772ac?response-content-disposition=inline%3B+filename*%3DUTF-8%27%27tok128.model%3B+filename%3D%22tok128.model%22%3B&Expires=1748517453&Policy=eyJTdGF0ZW1lbnQiOlt7IkNvbmRpdGlvbiI6eyJEYXRlTGVzc1RoYW4iOnsiQVdTOkVwb2NoVGltZSI6MTc0ODUxNzQ1M319LCJSZXNvdXJjZSI6Imh0dHBzOi8vY2RuLWxmcy11cy0xLmhmLmNvL3JlcG9zLzY1L2M4LzY1Yzg2MTViZmQ2YjZkOTRjOGU2MjM4MWVlNjY1MzU3OGI0MzlmNzFmZjA0Yjg2YWFlZmE5ODI4ZGVjOGJiNzAvZTQ3OTRjYzc1OTA0NDBjNDIyYjZkNjMxMjNmNmYxMGZiYzdlYzgzZjhmYzI4MWM2MDI5NmNiZWY2MWY3NzJhYz9yZXNwb25zZS1jb250ZW50LWRpc3Bvc2l0aW9uPSoifV19&Signature=WfhnGwm7YQTAxffUgF25WeglrfMfXz9BeHFy4d7T0CWhdIiPJR1vSA9Y6clXnn12c37YgRD4eze8uAbPG8eucWVtRsbZyr8ASjUMPn0SyDrSiifg7ZMeqqskpmTvQMtzdjhhu5wLR2Q0FXkIZgf6lVArotxUQZwbX2KxAFqQivM9bmE27lMMEQJd0G9aujCvBil6MggI2gZuVe2A1FHsUIDNOHGGPscT9Lzs1QXOWh-yhwMGeS8yG6ENMlkyTSxo4U%7EOBi7aXmjOnnLhNfrwdXoll3b0xQI5khG2loQh%7E79aALhsF79oFgxll6TpHKzL%7Ehs5yTBh2R4rYGUmzrTSOg__&Key-Pair-Id=K24J24Z295AEI9\n",
      "Resolving cdn-lfs-us-1.hf.co (cdn-lfs-us-1.hf.co)... 18.154.144.62, 18.154.144.114, 18.154.144.17, ...\n",
      "Connecting to cdn-lfs-us-1.hf.co (cdn-lfs-us-1.hf.co)|18.154.144.62|:443... connected.\n",
      "200 OK\n",
      "Length: 874 [text/plain]\n",
      "Saving to: ‘./modded-llama2.c/data/tok128.vocab’\n",
      "\n",
      "\rtok128.vocab          0%[                    ]       0  --.-KB/s               \rtok128.vocab        100%[===================>]     874  --.-KB/s    in 0s      \n",
      "\n",
      "2025-05-29 10:17:33 (522 MB/s) - ‘./modded-llama2.c/data/tok128.vocab’ saved [874/874]\n",
      "\n",
      "302 Found\n",
      "Location: https://cdn-lfs-us-1.hf.co/repos/65/c8/65c8615bfd6b6d94c8e62381ee6653578b439f71ff04b86aaefa9828dec8bb70/8c269e1c67aaef8c3addd0b229f4df8cdba103aaca25e7c0e6ce2f83610fc764?response-content-disposition=inline%3B+filename*%3DUTF-8%27%27tok128.tar.gz%3B+filename%3D%22tok128.tar.gz%22%3B&response-content-type=application%2Fgzip&Expires=1748517453&Policy=eyJTdGF0ZW1lbnQiOlt7IkNvbmRpdGlvbiI6eyJEYXRlTGVzc1RoYW4iOnsiQVdTOkVwb2NoVGltZSI6MTc0ODUxNzQ1M319LCJSZXNvdXJjZSI6Imh0dHBzOi8vY2RuLWxmcy11cy0xLmhmLmNvL3JlcG9zLzY1L2M4LzY1Yzg2MTViZmQ2YjZkOTRjOGU2MjM4MWVlNjY1MzU3OGI0MzlmNzFmZjA0Yjg2YWFlZmE5ODI4ZGVjOGJiNzAvOGMyNjllMWM2N2FhZWY4YzNhZGRkMGIyMjlmNGRmOGNkYmExMDNhYWNhMjVlN2MwZTZjZTJmODM2MTBmYzc2ND9yZXNwb25zZS1jb250ZW50LWRpc3Bvc2l0aW9uPSomcmVzcG9uc2UtY29udGVudC10eXBlPSoifV19&Signature=aI3ZhIX1L9vlx714LdUVtnVqTw5UEYajcfJbwsdSMB0MskIVnsQDhHnIqmK1EpgDhoAoVr56h4To2S-Pt3ibDVAJWgu9ugc4zCac9jF8cli0u-Oe1q2UkUBD%7EBtA9IMOE9sj1vmYo7QBA%7EJD7XSVen7BXNU8uaFCK2sZ0KgWDvc-WMFlJp3AtY0NNEnRzWc9oE99LJY-raVOX9bZVaabSxiVHoHyjncNDiRldor%7EX2JPzV47oD9Y85ybnl4Hh%7EYhin1w1uu9eka8WzyEQa5zvjtsTOa3SMtJjGYJk%7Ec%7EMY-TyfbcO818tdTJcrryXBtE2G5bO4WGIjSBcdY3UBTUWQ__&Key-Pair-Id=K24J24Z295AEI9 [following]\n",
      "--2025-05-29 10:17:33--  https://cdn-lfs-us-1.hf.co/repos/65/c8/65c8615bfd6b6d94c8e62381ee6653578b439f71ff04b86aaefa9828dec8bb70/8c269e1c67aaef8c3addd0b229f4df8cdba103aaca25e7c0e6ce2f83610fc764?response-content-disposition=inline%3B+filename*%3DUTF-8%27%27tok128.tar.gz%3B+filename%3D%22tok128.tar.gz%22%3B&response-content-type=application%2Fgzip&Expires=1748517453&Policy=eyJTdGF0ZW1lbnQiOlt7IkNvbmRpdGlvbiI6eyJEYXRlTGVzc1RoYW4iOnsiQVdTOkVwb2NoVGltZSI6MTc0ODUxNzQ1M319LCJSZXNvdXJjZSI6Imh0dHBzOi8vY2RuLWxmcy11cy0xLmhmLmNvL3JlcG9zLzY1L2M4LzY1Yzg2MTViZmQ2YjZkOTRjOGU2MjM4MWVlNjY1MzU3OGI0MzlmNzFmZjA0Yjg2YWFlZmE5ODI4ZGVjOGJiNzAvOGMyNjllMWM2N2FhZWY4YzNhZGRkMGIyMjlmNGRmOGNkYmExMDNhYWNhMjVlN2MwZTZjZTJmODM2MTBmYzc2ND9yZXNwb25zZS1jb250ZW50LWRpc3Bvc2l0aW9uPSomcmVzcG9uc2UtY29udGVudC10eXBlPSoifV19&Signature=aI3ZhIX1L9vlx714LdUVtnVqTw5UEYajcfJbwsdSMB0MskIVnsQDhHnIqmK1EpgDhoAoVr56h4To2S-Pt3ibDVAJWgu9ugc4zCac9jF8cli0u-Oe1q2UkUBD%7EBtA9IMOE9sj1vmYo7QBA%7EJD7XSVen7BXNU8uaFCK2sZ0KgWDvc-WMFlJp3AtY0NNEnRzWc9oE99LJY-raVOX9bZVaabSxiVHoHyjncNDiRldor%7EX2JPzV47oD9Y85ybnl4Hh%7EYhin1w1uu9eka8WzyEQa5zvjtsTOa3SMtJjGYJk%7Ec%7EMY-TyfbcO818tdTJcrryXBtE2G5bO4WGIjSBcdY3UBTUWQ__&Key-Pair-Id=K24J24Z295AEI9\n",
      "Resolving cdn-lfs-us-1.hf.co (cdn-lfs-us-1.hf.co)... 18.154.144.62, 18.154.144.114, 18.154.144.17, ...\n",
      "Connecting to cdn-lfs-us-1.hf.co (cdn-lfs-us-1.hf.co)|18.154.144.62|:443... connected.\n",
      "HTTP request sent, awaiting response... HTTP request sent, awaiting response... 200 OK\n",
      "Length: 1474 (1.4K) [binary/octet-stream]\n",
      "Saving to: ‘./modded-llama2.c/data/tok128.model’\n",
      "\n",
      "\rtok128.model          0%[                    ]       0  --.-KB/s               \rtok128.model        100%[===================>]   1.44K  --.-KB/s    in 0s      \n",
      "\n",
      "2025-05-29 10:17:33 (5.10 MB/s) - ‘./modded-llama2.c/data/tok128.model’ saved [1474/1474]\n",
      "\n",
      "200 OK\n",
      "Length: 1288810573 (1.2G) [application/gzip]\n",
      "Saving to: ‘./modded-llama2.c/data/tok128.tar.gz’\n",
      "\n",
      "tok128.tar.gz       100%[===================>]   1.20G   292MB/s    in 8.6s    \n",
      "\n",
      "2025-05-29 10:17:41 (144 MB/s) - ‘./modded-llama2.c/data/tok128.tar.gz’ saved [1288810573/1288810573]\n",
      "\n",
      "CPU times: user 294 ms, sys: 45.1 ms, total: 339 ms\n",
      "Wall time: 53.6 s\n"
     ]
    }
   ],
   "source": [
    "%%time\n",
    "!mkdir -p ./modded-llama2.c/data\n",
    "# Download files in parallel directly into the target directory\n",
    "!wget -P ./modded-llama2.c/data https://huggingface.co/datasets/enio/TinyStories/resolve/main/tok128/tok128.model & \\\n",
    "  wget -P ./modded-llama2.c/data https://huggingface.co/datasets/enio/TinyStories/raw/main/tok128/tok128.vocab & \\\n",
    "  wget -P ./modded-llama2.c/data https://huggingface.co/datasets/enio/TinyStories/resolve/main/tok128/tok128.tar.gz & \\\n",
    "  wait\n",
    "\n",
    "# Untar the large file after all downloads are complete\n",
    "!tar -I pigz -xf ./modded-llama2.c/data/tok128.tar.gz -C ./modded-llama2.c/data/\n",
    "\n",
    "# compile run / inference executable\n",
    "!cd modded-llama2.c && gcc -O3 -o run run.c -lm\n",
    "# create tok105.bin\n",
    "!cd modded-llama2.c && python tokenizer.py --tokenizer-model=data/tok128.model"
   ]
  },
  {
   "cell_type": "code",
   "execution_count": null,
   "metadata": {
    "colab": {
     "base_uri": "https://localhost:8080/"
    },
    "id": "sdMK1MW8g4eM",
    "outputId": "2a0e94a6-e2b4-4f29-aa65-9be928355617"
   },
   "outputs": [
    {
     "name": "stdout",
     "output_type": "stream",
     "text": [
      "Overriding: vocab_source = custom\n",
      "Overriding: vocab_size = 128\n",
      "Overriding: compile = False\n",
      "Overriding: dim = 128\n",
      "Overriding: n_layers = 5\n",
      "Overriding: n_heads = 8\n",
      "Overriding: n_kv_heads = 4\n",
      "Overriding: batch_size = 32\n",
      "Overriding: always_save_checkpoint = True\n",
      "Overriding: eval_interval = 100\n",
      "Overriding: max_iters = 100\n",
      "Starting run in out\n",
      "Vocab size (original/padded): 128/128\n",
      "Tokens per iteration: 65,536\n",
      "Max iterations: 100\n",
      "Compiling: False\n",
      "Initializing a new model from scratch\n",
      "Optimizer groups:\n",
      "  Group 0: 16,384 params, LR_mult=1.00, WD=0.0\n",
      "  Group 1: 1,408 params, LR_mult=0.10, WD=0.0\n",
      "  Group 2: 921,600 params, LR_mult=1.00, WD=0.1\n",
      "Total optimizable parameters: 939,392\n",
      "Using fused AdamW: True\n",
      "Created a PretokDataset with rng seed 42\n",
      "Starting training loop...\n",
      "Created a PretokDataset with rng seed 42\n",
      "Created a PretokDataset with rng seed 42\n",
      "step 0: train loss 4.9223, val loss 4.9226\n",
      "New best val loss: 4.9226\n",
      "Saving checkpoint to out/ckpt.pt\n",
      "wrote out/model.bin\n",
      "0 | loss 4.9256 | lr 5.00e-04 | 3590.91ms\n",
      "10 | loss 4.0614 | lr 5.00e-04 | 215.01ms\n",
      "20 | loss 3.6292 | lr 5.00e-04 | 214.54ms\n",
      "30 | loss 3.3815 | lr 5.00e-04 | 213.50ms\n",
      "40 | loss 3.2216 | lr 5.00e-04 | 214.73ms\n",
      "50 | loss 3.0882 | lr 5.00e-04 | 214.43ms\n",
      "60 | loss 2.9923 | lr 5.00e-04 | 215.37ms\n",
      "70 | loss 2.8756 | lr 5.00e-04 | 215.91ms\n",
      "80 | loss 2.7736 | lr 5.00e-04 | 214.57ms\n",
      "90 | loss 2.6466 | lr 5.00e-04 | 215.65ms\n",
      "Created a PretokDataset with rng seed 42\n",
      "Created a PretokDataset with rng seed 42\n",
      "step 100: train loss 2.5750, val loss 2.5715\n",
      "New best val loss: 2.5715\n",
      "Saving checkpoint to out/ckpt.pt\n",
      "wrote out/model.bin\n",
      "Training finished.\n",
      "Best validation loss achieved: 2.5715\n",
      "CPU times: user 195 ms, sys: 24.5 ms, total: 220 ms\n",
      "Wall time: 36.9 s\n"
     ]
    }
   ],
   "source": [
    "%%time\n",
    "# train neural net\n",
    "!cd modded-llama2.c && python train.py --vocab_source=custom --vocab_size=128 --compile=True \\\n",
    "  --dim=128 --n_layers=5 --n_heads=8 --n_kv_heads=4 --batch_size=32 \\\n",
    "  --always_save_checkpoint=True --eval_interval=100 --max_iters=100 #--init_from='resume'"
   ]
  },
  {
   "cell_type": "code",
   "execution_count": 7,
   "metadata": {
    "colab": {
     "base_uri": "https://localhost:8080/"
    },
    "id": "1-ylANKlOfCr",
    "outputId": "17991741-5312-4040-88ae-68d1bcf57297"
   },
   "outputs": [
    {
     "name": "stdout",
     "output_type": "stream",
     "text": [
      "Once upon a time vets mery mily. Thely locm toy toches nise on. One bide. They and goated poft a bigh her enends, the ganke nomy, the mommy. She mont hered, \" jon a balle pind as on hery, Lit was toe doy sofly, the was movettiet pot play was a hat he hars and mas. \" He her lime in the exce. Shent the deows it to borar. Bad wit er\n",
      "achieved tok/s: 822.580645\n",
      "CPU times: user 7.23 ms, sys: 1.16 ms, total: 8.39 ms\n",
      "Wall time: 408 ms\n"
     ]
    }
   ],
   "source": [
    "%%time\n",
    "# inference\n",
    "!cd ./modded-llama2.c && ./run out/model.bin -z data/tok128.bin -t 0.8 -n 256 -i \"Once upon a time \""
   ]
  }
 ],
 "metadata": {
  "accelerator": "GPU",
  "colab": {
   "gpuType": "T4",
   "include_colab_link": true,
   "provenance": []
  },
  "kernelspec": {
   "display_name": "Python 3",
   "name": "python3"
  },
  "language_info": {
   "name": "python"
  }
 },
 "nbformat": 4,
 "nbformat_minor": 0
}
